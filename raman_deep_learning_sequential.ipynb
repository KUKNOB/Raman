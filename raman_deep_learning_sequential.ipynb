{
 "cells": [
  {
   "cell_type": "markdown",
   "metadata": {},
   "source": [
    "## Import the neccessary libraries and files"
   ]
  },
  {
   "cell_type": "code",
   "execution_count": 1,
   "metadata": {},
   "outputs": [],
   "source": [
    "import numpy as np\n",
    "import pandas as pd\n",
    "import shelve\n",
    "import keras_experiment\n",
    "import matplotlib.pyplot as plt\n",
    "import tensorflow as tf\n",
    "from tensorflow import keras\n",
    "from tensorflow.keras import layers\n",
    "import matplotlib.pyplot as plt"
   ]
  },
  {
   "cell_type": "markdown",
   "metadata": {},
   "source": [
    "## Import shelve file for three concetrations: \n",
    "\n",
    "**15000 ppb, 1500 ppb, 150 ppb**"
   ]
  },
  {
   "cell_type": "code",
   "execution_count": 2,
   "metadata": {},
   "outputs": [],
   "source": [
    "filename='shelve_save_data.out'\n",
    "\n",
    "my_shelf = shelve.open(filename)\n",
    "for key in my_shelf:\n",
    "    globals()[key]=my_shelf[key]\n",
    "my_shelf.close()"
   ]
  },
  {
   "cell_type": "markdown",
   "metadata": {},
   "source": [
    "### Preprocess the data"
   ]
  },
  {
   "cell_type": "code",
   "execution_count": 3,
   "metadata": {},
   "outputs": [
    {
     "name": "stdout",
     "output_type": "stream",
     "text": [
      "(20000, 1600)\n",
      "[[0. 0. 0. ... 0. 0. 0.]\n",
      " [0. 0. 0. ... 0. 0. 0.]\n",
      " [0. 0. 0. ... 0. 0. 0.]\n",
      " ...\n",
      " [0. 0. 0. ... 0. 0. 0.]\n",
      " [0. 0. 0. ... 0. 0. 0.]\n",
      " [0. 0. 0. ... 0. 0. 0.]]\n",
      "[286.2 361.8 324.  ... 362.2 405.8   0. ]\n"
     ]
    },
    {
     "name": "stderr",
     "output_type": "stream",
     "text": [
      "/home/akula/anaconda3/lib/python3.7/site-packages/ipykernel_launcher.py:18: RuntimeWarning: invalid value encountered in true_divide\n"
     ]
    },
    {
     "name": "stdout",
     "output_type": "stream",
     "text": [
      "[[0.17540182 0.17679944 0.17051013 ... 0.89378057 0.90775681 0.90915444]\n",
      " [0.14814815 0.12327253 0.13377557 ... 0.74626866 0.74074074 0.79049198]\n",
      " [0.22345679 0.19814815 0.21049383 ... 0.98580247 0.98518519 0.94691358]\n",
      " ...\n",
      " [0.140254   0.13528437 0.14522363 ... 0.95637769 1.         0.99282165]\n",
      " [0.19418433 0.15426318 0.16855594 ... 0.98570724 0.99112863 0.97092164]\n",
      " [       nan        nan        nan ...        nan        nan        nan]]\n"
     ]
    }
   ],
   "source": [
    "whole_data = np.zeros((20000, 1600))\n",
    "print(whole_data.shape)\n",
    "whole_data[0:2500] = np.copy(data_15000[0])\n",
    "whole_data[2500:5000] = np.copy(data_15000[1])\n",
    "whole_data[5000:7500] = np.copy(data_15000[2])\n",
    "whole_data[7500:10000] = np.copy(data_15000[3])\n",
    "whole_data[10000:12500] = np.copy(data_1500[0])\n",
    "whole_data[12500:15000] = np.copy(data_1500[1])\n",
    "whole_data[15000:17500] = np.copy(data_1500[2])\n",
    "whole_data[17500:20000] = np.copy(data_1500[3])\n",
    "\n",
    "training_data = np.empty_like(whole_data)\n",
    "print(training_data)\n",
    "\n",
    "\n",
    "max_of_each_row = whole_data.max(axis=1)\n",
    "print(max_of_each_row)\n",
    "training_data = np.copy(whole_data / max_of_each_row[:, np.newaxis])\n",
    "    \n",
    "print(training_data)\n",
    "    \n",
    "labels = np.zeros((20000, 2))\n",
    "labels[0:10000,0] = 1\n",
    "labels[10000:20000,1] = 1\n",
    "\n",
    "idx = np.random.permutation(len(labels))\n",
    "# plt.plot(f_sup, training_data[], '-')#, label='one spectrum')\n",
    "# plt.legend()\n",
    "# plt.show()\n",
    "X = np.copy(training_data)[idx]\n",
    "y = np.copy(labels)[idx]\n",
    "x_train, y_train = X[:16000], y[:16000]\n",
    "x_test, y_test = X[16000:], y[16000:]\n",
    "x_train_another, y_train_another = np.copy(X), np.copy(y)\n"
   ]
  },
  {
   "cell_type": "code",
   "execution_count": 4,
   "metadata": {},
   "outputs": [
    {
     "name": "stdout",
     "output_type": "stream",
     "text": [
      "(20000,)\n"
     ]
    }
   ],
   "source": [
    "array_sum = training_data.sum(axis=1)\n",
    "print(array_sum.shape)\n",
    "array_has_nan = np.where(np.isnan(array_sum) == True)"
   ]
  },
  {
   "cell_type": "code",
   "execution_count": 5,
   "metadata": {},
   "outputs": [
    {
     "name": "stdout",
     "output_type": "stream",
     "text": [
      "(array([ 2499,  2549,  2599,  2649,  2699,  2749,  2799,  2849,  2899,\n",
      "        2949,  2999,  3049,  3099,  3149,  3199,  3249,  3299,  3349,\n",
      "        3399,  3449,  3499,  3549,  3599,  3649,  3699,  3749,  3799,\n",
      "        3849,  3899,  3949,  3999,  4049,  4099,  4149,  4199,  4249,\n",
      "        4299,  4349,  4399,  4449,  4499,  4549,  4599,  4649,  4699,\n",
      "        4749,  4799,  4849,  4899,  4949,  4999,  7499,  9999, 12499,\n",
      "       14999, 17499, 19999]),)\n"
     ]
    }
   ],
   "source": [
    "print(array_has_nan)"
   ]
  },
  {
   "cell_type": "code",
   "execution_count": 6,
   "metadata": {},
   "outputs": [
    {
     "name": "stdout",
     "output_type": "stream",
     "text": [
      "[ 2499  2549  2599  2649  2699  2749  2799  2849  2899  2949  2999  3049\n",
      "  3099  3149  3199  3249  3299  3349  3399  3449  3499  3549  3599  3649\n",
      "  3699  3749  3799  3849  3899  3949  3999  4049  4099  4149  4199  4249\n",
      "  4299  4349  4399  4449  4499  4549  4599  4649  4699  4749  4799  4849\n",
      "  4899  4949  4999  7499  9999 12499 14999 17499 19999]\n"
     ]
    }
   ],
   "source": [
    "indeces_nan = np.unique(array_has_nan[0])\n",
    "print(indeces_nan)"
   ]
  },
  {
   "cell_type": "markdown",
   "metadata": {},
   "source": [
    "### Define model"
   ]
  },
  {
   "cell_type": "code",
   "execution_count": null,
   "metadata": {},
   "outputs": [],
   "source": [
    "model = keras.Sequential(\n",
    "    [\n",
    "        keras.Input(shape=(1600,)),\n",
    "        layers.Dense(400, activation=\"relu\"),\n",
    "        layers.Dense(100, activation=\"relu\"),\n",
    "        layers.Dense(2, activation=\"softmax\"),\n",
    "    ]\n",
    ")"
   ]
  },
  {
   "cell_type": "markdown",
   "metadata": {},
   "source": [
    "### Compile model"
   ]
  },
  {
   "cell_type": "code",
   "execution_count": null,
   "metadata": {},
   "outputs": [],
   "source": [
    "model.compile(\n",
    "    optimizer=\"adam\",\n",
    "    loss=\"binary_crossentropy\",\n",
    "    metrics=['accuracy'],\n",
    ")"
   ]
  },
  {
   "cell_type": "code",
   "execution_count": null,
   "metadata": {},
   "outputs": [],
   "source": [
    "history = model.fit(x_train_another, y_train_another, validation_split=0.2, epochs=30, batch_size=256, verbose=2)"
   ]
  },
  {
   "cell_type": "code",
   "execution_count": null,
   "metadata": {},
   "outputs": [],
   "source": [
    "np.mean(model.predict(x_test).argmax(axis=-1) == y_test.argmax(axis=-1))"
   ]
  },
  {
   "cell_type": "code",
   "execution_count": null,
   "metadata": {},
   "outputs": [],
   "source": [
    "# list all data in history\n",
    "print(history.history.keys())"
   ]
  },
  {
   "cell_type": "code",
   "execution_count": null,
   "metadata": {},
   "outputs": [],
   "source": [
    "# summarize history for accuracy\n",
    "plt.plot(history.history['accuracy'])\n",
    "plt.plot(history.history['val_accuracy'])\n",
    "plt.title('model accuracy')\n",
    "plt.ylabel('accuracy')\n",
    "plt.xlabel('epoch')\n",
    "plt.legend(['train', 'test'], loc='upper left')\n",
    "plt.show()"
   ]
  },
  {
   "cell_type": "code",
   "execution_count": null,
   "metadata": {},
   "outputs": [],
   "source": [
    "plt.plot(history.history['loss'])\n",
    "plt.plot(history.history['val_loss'])\n",
    "plt.title('model loss')\n",
    "plt.ylabel('loss')\n",
    "plt.xlabel('epoch')\n",
    "plt.legend(['train', 'test'], loc='upper left')\n",
    "plt.show()"
   ]
  }
 ],
 "metadata": {
  "kernelspec": {
   "display_name": "Python 3",
   "language": "python",
   "name": "python3"
  },
  "language_info": {
   "codemirror_mode": {
    "name": "ipython",
    "version": 3
   },
   "file_extension": ".py",
   "mimetype": "text/x-python",
   "name": "python",
   "nbconvert_exporter": "python",
   "pygments_lexer": "ipython3",
   "version": "3.7.6"
  }
 },
 "nbformat": 4,
 "nbformat_minor": 4
}
